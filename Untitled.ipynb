{
 "cells": [
  {
   "cell_type": "code",
   "execution_count": 5,
   "id": "c7ea7e64-24e6-4d28-b8ce-b4b0b297c794",
   "metadata": {},
   "outputs": [
    {
     "data": {
      "text/plain": [
       "62.125"
      ]
     },
     "execution_count": 5,
     "metadata": {},
     "output_type": "execute_result"
    }
   ],
   "source": [
    "# Where 'x' is the amount of recursion\n",
    "def iterated_function(n, x=2):\n",
    "    return (7 / 4) ** x * n + x / 2 + (-1) ** (n + 1) * ((5 / 4) ** x * n + x / 2)\n",
    "\n",
    "iterated_function(13)"
   ]
  },
  {
   "cell_type": "code",
   "execution_count": null,
   "id": "2d94498a-4984-4a85-90d8-44d37bbe1e75",
   "metadata": {},
   "outputs": [],
   "source": []
  }
 ],
 "metadata": {
  "kernelspec": {
   "display_name": "Python 3 (ipykernel)",
   "language": "python",
   "name": "python3"
  },
  "language_info": {
   "codemirror_mode": {
    "name": "ipython",
    "version": 3
   },
   "file_extension": ".py",
   "mimetype": "text/x-python",
   "name": "python",
   "nbconvert_exporter": "python",
   "pygments_lexer": "ipython3",
   "version": "3.9.7"
  }
 },
 "nbformat": 4,
 "nbformat_minor": 5
}
